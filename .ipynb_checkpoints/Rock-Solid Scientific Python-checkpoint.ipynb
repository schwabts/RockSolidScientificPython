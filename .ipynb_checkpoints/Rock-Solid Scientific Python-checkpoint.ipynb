{
 "cells": [
  {
   "cell_type": "markdown",
   "id": "90d256eb",
   "metadata": {},
   "source": [
    "# [12 steps toward rock-solid scientific Python code](https://www.davidketcheson.info/2015/05/10/rock_solid_code.html)\n",
    "\n",
    "\n",
    "## Twelve (baby) steps\n",
    "\n",
    "1. [Use version control](https://www.davidketcheson.info/2015/05/11/use_version_control.html)\n",
    "2. [Put your code in the cloud, in the open](https://www.davidketcheson.info/2015/05/12/code_in_the_open.html)\n",
    "3. [Add a README and a License](https://www.davidketcheson.info/2015/05/13/add_a_readme.html)\n",
    "4. [Write docstrings](https://www.davidketcheson.info/2015/05/14/write_docstrings.html)\n",
    "5. [Write tests](https://www.davidketcheson.info/2015/05/15/write_tests.html)\n",
    "6. [Keep track of issues](https://www.davidketcheson.info/2015/05/16/track_issues.html)\n",
    "7. [Automate the tests](https://www.davidketcheson.info/2015/05/29/automate_tests.html)\n",
    "8. Automate the build (coming soon)\n",
    "9. Use continuous integration (coming soon)\n",
    "10. Monitor test coverage (coming soon)\n",
    "11. Write narrative documentation (coming soon)\n",
    "12. Catch errors as you type them (coming soon)\n",
    "\n",
    "## Step 1 - Use version control\n",
    "\n",
    "State-of-the-art is **git**, documented in the [Pro Git book](http://git-scm.com/book/en/v2).\n",
    "If you don’t have it, get it here: [http://git-scm.com/downloads](http://git-scm.com/downloads).\n",
    "Then take a moment to [set up git](https://help.github.com/articles/set-up-git/#setting-up-git).\n",
    "\n",
    "## Step 2 - Code in the open\n",
    "\n",
    "1. Share your code on [Github](https://github.com/) where you should already have an account.\n",
    "2. Once you’re logged in, click on the “+” in the upper-right part of the screen and select “New repository”.\n",
    "3. Give it the same name as your project, and write a short description.\n",
    "4. Don’t initialize it with a README or license file (we’ll do that in Step #3).\n",
    "5. Preferably, select “public” repository.\n",
    "\n",
    "## Step 3 - Add a README and a License\n",
    "\n",
    "You need a README file, i.e. a minimalist documentation – just what is absolutely necessary for someone to start using your code.\n",
    "\n"
   ]
  },
  {
   "cell_type": "code",
   "execution_count": null,
   "id": "60b9c760",
   "metadata": {},
   "outputs": [],
   "source": []
  }
 ],
 "metadata": {
  "kernelspec": {
   "display_name": "Python 3",
   "language": "python",
   "name": "python3"
  },
  "language_info": {
   "codemirror_mode": {
    "name": "ipython",
    "version": 3
   },
   "file_extension": ".py",
   "mimetype": "text/x-python",
   "name": "python",
   "nbconvert_exporter": "python",
   "pygments_lexer": "ipython3",
   "version": "3.8.8"
  }
 },
 "nbformat": 4,
 "nbformat_minor": 5
}
