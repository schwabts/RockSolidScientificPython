{
 "cells": [
  {
   "cell_type": "markdown",
   "id": "90d256eb",
   "metadata": {},
   "source": [
    "# [12 steps toward rock-solid scientific Python code](https://www.davidketcheson.info/2015/05/10/rock_solid_code.html)\n",
    "\n",
    "\n",
    "## Twelve (baby) steps\n",
    "\n",
    "1. [Use version control](https://www.davidketcheson.info/2015/05/11/use_version_control.html)\n",
    "1. [Put your code in the cloud, in the open](https://www.davidketcheson.info/2015/05/12/code_in_the_open.html)\n",
    "1. [Add a README and a License](https://www.davidketcheson.info/2015/05/13/add_a_readme.html)\n",
    "1. [Write docstrings](https://www.davidketcheson.info/2015/05/14/write_docstrings.html)\n",
    "1. [Write tests](https://www.davidketcheson.info/2015/05/15/write_tests.html)\n",
    "1. [Keep track of issues](https://www.davidketcheson.info/2015/05/16/track_issues.html)\n",
    "1. [Automate the tests](https://www.davidketcheson.info/2015/05/29/automate_tests.html)\n",
    "1. Automate the build (coming soon)\n",
    "1. Use continuous integration (coming soon)\n",
    "1. Monitor test coverage (coming soon)\n",
    "1. Write narrative documentation (coming soon)\n",
    "1. Catch errors as you type them (coming soon)\n",
    "\n",
    "## [Step 1 - Use version control](https://www.davidketcheson.info/2015/05/11/use_version_control.html)\n",
    "\n",
    "State-of-the-art is **git**, documented in the [Pro Git book](http://git-scm.com/book/en/v2).\n",
    "If you don’t have it, get it here: [http://git-scm.com/downloads](http://git-scm.com/downloads).\n",
    "Then take a moment to [set up git](https://help.github.com/articles/set-up-git/#setting-up-git).\n",
    "\n",
    "## [Step 2 - Code in the open](https://www.davidketcheson.info/2015/05/12/code_in_the_open.html)\n",
    "\n",
    "1. Share your code on [Github](https://github.com/) where you should already have an account.\n",
    "1. Once you’re logged in, click on the “+” in the upper-right part of the screen and select “New repository”.\n",
    "1. Give it the same name as your project, and write a short description.\n",
    "1. Don’t initialize it with a README or license file (we’ll do that in Step #3).\n",
    "1. Preferably, select “public” repository.\n",
    "\n",
    "## [Step 3 - Add a README and a License](https://www.davidketcheson.info/2015/05/13/add_a_readme.html)\n",
    "\n",
    "### You need a README file\n",
    "\n",
    "This is a minimalist documentation – just what is absolutely necessary for someone to start using your code.\n",
    "\n",
    "1. Go to your project directory and open a new file. Call it README.md. The .md extension stands for Markdown, which is just an embellished format for text files that lets you add text formatting in simple ways that will automatically show up on Github. You can learn more about Markdown here, but for the moment just think of it as a text file.\n",
    "1. Write the contents of the README file. You should probably include:\n",
    "    * a brief description of what your code does;\n",
    "    * instructions for installing your code;\n",
    "    * what other code needs to be installed for it to work;\n",
    "    * one or two examples of how to invoke your code;\n",
    "    * optionally: who wrote the code, how to cite it, and who to contact for help. One good example of a README file is [here](https://github.com/github/markup/blob/master/README.md).\n",
    "1. Save and close the file.\n",
    "1. Add it to your repository with git add and git commit.\n",
    "1. Push the file to github with git push.\n",
    "1. Go to the page for your project on Github. You should see the contents of your README file displayed automatically right below the directory listing. It should look something like this.\n",
    "\n",
    "\n",
    "### You need a License file\n",
    "\n",
    "The most common licenses for open source scientific software are\n",
    "\n",
    "* [BSD](https://choosealicense.com/licenses/bsd-2-clause/),\n",
    "* [MIT](https://choosealicense.com/licenses/mit/), and\n",
    "* [GPL](https://choosealicense.com/licenses/gpl-2.0/).\n",
    "\n",
    "My suggestion is to use a BSD license, but if you want to investigate in more detail, try [Choose A License](https://choosealicense.com/) or go read [this paper](https://www.ncbi.nlm.nih.gov/pmc/articles/PMC3406002/).\n",
    "\n",
    "Here’s what to do:\n",
    "\n",
    "1. Create a file called LICENSE.txt in your project directory.\n",
    "1. Paste the license text (from one of the links above) into the file, save, and close.\n",
    "1. Commit and push the file to Github.\n",
    "\n",
    "## [Step 4 - write docstrings](https://www.davidketcheson.info/2015/05/14/write_docstrings.html)\n",
    "\n",
    "Steps 1-3 were language-agnostic, but now I’m going to assume you’re using Python. The Python language has a built-in feature for documenting functions, classes, and modules; it is the docstring. A docstring for a very simple function looks like this:"
   ]
  },
  {
   "cell_type": "code",
   "execution_count": 3,
   "id": "60b9c760",
   "metadata": {},
   "outputs": [],
   "source": [
    "def square(x):\n",
    "    \"\"\"\n",
    "    Takes a number x and returns x*x.\n",
    "    \n",
    "    Examples:\n",
    "    >>> square(5)\n",
    "    25\n",
    "    >>> square(2)\n",
    "    4\n",
    "    \"\"\"\n",
    "    return x*x"
   ]
  },
  {
   "cell_type": "markdown",
   "id": "7e8de75a",
   "metadata": {},
   "source": [
    "The docstring is, of course, the part inside the triple quotes. If you type a function name followed by a “?” at the Python interpreter (or in a Jupyter notebook):"
   ]
  },
  {
   "cell_type": "code",
   "execution_count": 4,
   "id": "de87e46d",
   "metadata": {},
   "outputs": [],
   "source": [
    "square?"
   ]
  },
  {
   "cell_type": "markdown",
   "id": "87587d2d",
   "metadata": {},
   "source": [
    "then Python shows you the docstring for the function. If you’ve ever tried to get help on a function that had no docstring, you know the dark feeling of despair that attends such a moment. Don’t let your code be that code. Write docstrings!\n",
    "\n",
    "For a somewhat longer docstring, see my [Gaussian elimination example](https://github.com/ketch/rock-solid-code-demo/blob/master/factor.py).\n",
    "\n",
    "What should go in a docstring? Obviously, you should describe the arguments to the function and values returned by the function. But usually the most useful part of a docstring is examples. I’ll repeat that, because it’s important:"
   ]
  },
  {
   "cell_type": "markdown",
   "id": "9363ab22",
   "metadata": {},
   "source": [
    "## [Step 5 - write tests](https://www.davidketcheson.info/2015/05/15/write_tests.html)\n",
    "\n",
    "Fortunately, I don’t have to convince you, because I’m not going to ask you to write tests in this step. As a matter of fact, I tricked you into writing tests in step 4. Remember those examples you put in your docstring?\n",
    "\n",
    "Yeah, I’m sneaky like that.\n",
    "\n",
    "What is a test? It’s a bit of code that uses your project code, together with assertions regarding the output. Here’s how you can use the docstring you wrote as a test:\n",
    "\n",
    "1. Go to your project directory and identify the file to which you added one or more docstrings in step 4. We’ll refer to that as my_file.py.\n",
    "1. At the command line (i.e., in a terminal), type `python -m doctest -v my_file.py` (but substitute the name of your file).\n",
    "1. Look at the printed output to see if your test(s) passed.\n",
    "\n",
    "What just happened? Doctest is a python module that takes all the examples in your docstrings, runs them, and checks whether the output in the docstring matches the actual output. If any of your doctests failed, you should compare the actual output with your docstring and correct things.\n",
    "\n",
    "I always forget how to invoke doctest, so I put the following code at the bottom of all my `.py` files:"
   ]
  },
  {
   "cell_type": "code",
   "execution_count": 5,
   "id": "2124345b",
   "metadata": {},
   "outputs": [],
   "source": [
    "if __name__ == \"__main__\":\n",
    "    import doctest\n",
    "    doctest.testmod()"
   ]
  },
  {
   "cell_type": "markdown",
   "id": "3b5d5231",
   "metadata": {},
   "source": [
    "After adding that, I can just do"
   ]
  },
  {
   "cell_type": "code",
   "execution_count": 6,
   "id": "46fba50f",
   "metadata": {},
   "outputs": [
    {
     "ename": "SyntaxError",
     "evalue": "invalid syntax (<ipython-input-6-a7051630c9e4>, line 1)",
     "output_type": "error",
     "traceback": [
      "\u001b[1;36m  File \u001b[1;32m\"<ipython-input-6-a7051630c9e4>\"\u001b[1;36m, line \u001b[1;32m1\u001b[0m\n\u001b[1;33m    python my_file.py -v\u001b[0m\n\u001b[1;37m           ^\u001b[0m\n\u001b[1;31mSyntaxError\u001b[0m\u001b[1;31m:\u001b[0m invalid syntax\n"
     ]
    }
   ],
   "source": [
    "python my_file.py -v"
   ]
  },
  {
   "cell_type": "markdown",
   "id": "f6340f11",
   "metadata": {},
   "source": [
    "and it will automatically run the doctests. One warning: if you don’t add the -v flag (for verbose) on the command line, then there will be no printed output at all unless some test fails. And if you put -v before your filename, you’ll get something totally different.\n",
    "\n",
    "Doctests are certainly not all there is to testing in Python, but for me they are a minimal-effort approach that makes my code much more reliable. If you add a docstring with a doctest to each function and module in your code, you’ll spend a lot less time debugging later on. I bet you’ll also find some bugs as you add the doctests.\n",
    "\n",
    "From now on, just make it a habit to add a docstring and a doctest whenever you write a new function. Your future self will thank you."
   ]
  },
  {
   "cell_type": "markdown",
   "id": "dba605f7",
   "metadata": {},
   "source": [
    "## [Step 6 - Keep track of issues](https://www.davidketcheson.info/2015/05/16/track_issues.html)\n",
    "\n"
   ]
  },
  {
   "cell_type": "markdown",
   "id": "fb3d803d",
   "metadata": {},
   "source": [
    "## [Step 7 - Automate the tests](https://www.davidketcheson.info/2015/05/29/automate_tests.html)"
   ]
  },
  {
   "cell_type": "code",
   "execution_count": null,
   "id": "6765ec54",
   "metadata": {},
   "outputs": [],
   "source": []
  }
 ],
 "metadata": {
  "kernelspec": {
   "display_name": "Python 3",
   "language": "python",
   "name": "python3"
  },
  "language_info": {
   "codemirror_mode": {
    "name": "ipython",
    "version": 3
   },
   "file_extension": ".py",
   "mimetype": "text/x-python",
   "name": "python",
   "nbconvert_exporter": "python",
   "pygments_lexer": "ipython3",
   "version": "3.8.8"
  }
 },
 "nbformat": 4,
 "nbformat_minor": 5
}
